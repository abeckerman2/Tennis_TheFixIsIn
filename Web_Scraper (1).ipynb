{
 "cells": [
  {
   "cell_type": "code",
   "execution_count": 214,
   "id": "84a5958d",
   "metadata": {},
   "outputs": [],
   "source": [
    "import requests\n",
    "from bs4 import BeautifulSoup\n",
    "\n",
    "URL = \"https://www.oddsshark.com/tennis/atp/odds\"\n",
    "page = requests.get(URL)\n",
    "\n",
    "soup = BeautifulSoup(page.content, \"html.parser\")"
   ]
  },
  {
   "cell_type": "code",
   "execution_count": 215,
   "id": "1f336c3e",
   "metadata": {},
   "outputs": [],
   "source": [
    "#get odds for tennis players\n",
    "odds_results = soup.find_all(\"div\", {\"class\": \"odds-moneyline moneyline-only\"})\n",
    "#Get tennis player names\n",
    "name_results = soup.find_all(lambda tag: tag.name == 'div' and \n",
    "                                   tag.get('class') == ['participant-name'])"
   ]
  },
  {
   "cell_type": "code",
   "execution_count": 217,
   "id": "724fcc34",
   "metadata": {},
   "outputs": [],
   "source": [
    "import pandas as pd\n",
    "df = pd.DataFrame()"
   ]
  },
  {
   "cell_type": "code",
   "execution_count": 220,
   "id": "75ae8a72",
   "metadata": {},
   "outputs": [],
   "source": [
    "player_one_list = []\n",
    "player_two_list = []\n",
    "\n",
    "#split players between player one and player two\n",
    "for index, row in enumerate(list_names):\n",
    "    if index % 2 == 0:\n",
    "        player_one_list.append(row)\n",
    "    if index % 2 != 0:\n",
    "        player_two_list.append(row)\n",
    "\n",
    "#delete whitespace for player one\n",
    "cleaned_names_one = []\n",
    "for name in player_one_list:\n",
    "    cleaned_name_one = name.strip()\n",
    "    cleaned_names_one.append(cleaned_name_one)\n",
    "    \n",
    "#delete whitespace for player two\n",
    "cleaned_names_two = []\n",
    "for name in player_two_list:\n",
    "    cleaned_name_two = name.strip()\n",
    "    cleaned_names_two.append(cleaned_name_two)"
   ]
  },
  {
   "cell_type": "code",
   "execution_count": 221,
   "id": "71e2ad92",
   "metadata": {},
   "outputs": [
    {
     "data": {
      "text/html": [
       "<div>\n",
       "<style scoped>\n",
       "    .dataframe tbody tr th:only-of-type {\n",
       "        vertical-align: middle;\n",
       "    }\n",
       "\n",
       "    .dataframe tbody tr th {\n",
       "        vertical-align: top;\n",
       "    }\n",
       "\n",
       "    .dataframe thead th {\n",
       "        text-align: right;\n",
       "    }\n",
       "</style>\n",
       "<table border=\"1\" class=\"dataframe\">\n",
       "  <thead>\n",
       "    <tr style=\"text-align: right;\">\n",
       "      <th></th>\n",
       "      <th>player_one</th>\n",
       "      <th>player_two</th>\n",
       "    </tr>\n",
       "  </thead>\n",
       "  <tbody>\n",
       "    <tr>\n",
       "      <th>0</th>\n",
       "      <td>Novak Djokovic</td>\n",
       "      <td>Daniil Medvedev</td>\n",
       "    </tr>\n",
       "  </tbody>\n",
       "</table>\n",
       "</div>"
      ],
      "text/plain": [
       "       player_one       player_two\n",
       "0  Novak Djokovic  Daniil Medvedev"
      ]
     },
     "execution_count": 221,
     "metadata": {},
     "output_type": "execute_result"
    }
   ],
   "source": [
    "#Add player one and player two the dataframe\n",
    "df['player_one'] = cleaned_names_one\n",
    "df['player_two'] = cleaned_names_two\n",
    "\n",
    "#print the dataframe\n",
    "df"
   ]
  },
  {
   "cell_type": "code",
   "execution_count": 223,
   "id": "1f9883ca",
   "metadata": {},
   "outputs": [],
   "source": [
    "#odds_results\n",
    "list_odds = []\n",
    "\n",
    "#add odds to a list\n",
    "for i in odds_results:\n",
    "    list_odds.append(i.text)"
   ]
  },
  {
   "cell_type": "code",
   "execution_count": 225,
   "id": "40965947",
   "metadata": {},
   "outputs": [
    {
     "data": {
      "text/html": [
       "<div>\n",
       "<style scoped>\n",
       "    .dataframe tbody tr th:only-of-type {\n",
       "        vertical-align: middle;\n",
       "    }\n",
       "\n",
       "    .dataframe tbody tr th {\n",
       "        vertical-align: top;\n",
       "    }\n",
       "\n",
       "    .dataframe thead th {\n",
       "        text-align: right;\n",
       "    }\n",
       "</style>\n",
       "<table border=\"1\" class=\"dataframe\">\n",
       "  <thead>\n",
       "    <tr style=\"text-align: right;\">\n",
       "      <th></th>\n",
       "      <th>player_one</th>\n",
       "      <th>player_two</th>\n",
       "      <th>player_one_odds</th>\n",
       "      <th>player_two_odds</th>\n",
       "    </tr>\n",
       "  </thead>\n",
       "  <tbody>\n",
       "    <tr>\n",
       "      <th>0</th>\n",
       "      <td>Novak Djokovic</td>\n",
       "      <td>Daniil Medvedev</td>\n",
       "      <td>-250</td>\n",
       "      <td>+200</td>\n",
       "    </tr>\n",
       "  </tbody>\n",
       "</table>\n",
       "</div>"
      ],
      "text/plain": [
       "       player_one       player_two player_one_odds player_two_odds\n",
       "0  Novak Djokovic  Daniil Medvedev            -250            +200"
      ]
     },
     "execution_count": 225,
     "metadata": {},
     "output_type": "execute_result"
    }
   ],
   "source": [
    "current_odd_list = [v for i, v in enumerate(list_odds) if i % 4 < 2]\n",
    "\n",
    "player_one_list = []\n",
    "player_two_list = []\n",
    "\n",
    "#split odds between player one and player two\n",
    "for index, row in enumerate(current_odd_list):\n",
    "    if index % 2 == 0:\n",
    "        player_one_list.append(row)\n",
    "    if index % 2 != 0:\n",
    "        player_two_list.append(row)\n",
    "\n",
    "df['player_one_odds'] = player_one_list\n",
    "df['player_two_odds'] = player_two_list\n",
    "\n",
    "df"
   ]
  },
  {
   "cell_type": "code",
   "execution_count": 228,
   "id": "ba6962c2",
   "metadata": {},
   "outputs": [],
   "source": [
    "#Get tennis player seed from atp website (espn is blocked)\n",
    "\n",
    "URL = \"https://www.atptour.com/en/rankings/singles\"\n",
    "page = requests.get(URL)\n",
    "soup = BeautifulSoup(page.content, \"html.parser\")"
   ]
  },
  {
   "cell_type": "code",
   "execution_count": 229,
   "id": "7267f74c",
   "metadata": {},
   "outputs": [],
   "source": [
    "# Creating list with all tables on website\n",
    "tables = soup.find_all('table')\n",
    "\n",
    "# Looking for the table with the classes 'mega-table'\n",
    "table = soup.find('table', class_='mega-table')"
   ]
  },
  {
   "cell_type": "code",
   "execution_count": 230,
   "id": "17bb0d76",
   "metadata": {},
   "outputs": [],
   "source": [
    "import re\n",
    "\n",
    "#Get ranking seed\n",
    "player_ranking = []\n",
    "\n",
    "for name in table.tbody.find_all(\"td\", class_=\"rank-cell border-left-4 border-right-dash-1\"):\n",
    "    salary = name.parent.find_all('td')[-1]  # last cell in the row\n",
    "    player_ranking.append(name.get_text())\n",
    "\n",
    "cleaned_player_data = [row.replace('\\n', '').replace('\\r', '') for row in player_ranking]\n",
    "#Remove the whitespace\n",
    "cleaned_player_data = [re.sub(r'\\s+', '', row) for row in cleaned_player_data]"
   ]
  },
  {
   "cell_type": "code",
   "execution_count": 231,
   "id": "87665562",
   "metadata": {},
   "outputs": [],
   "source": [
    "#Get tennis player name\n",
    "name_list = []\n",
    "elements_with_class = soup.find_all('span', class_='player-cell-wrapper')\n",
    "\n",
    "for element in elements_with_class:\n",
    "    # Extract the text content of the <span> element\n",
    "    link_text = element.text\n",
    "    \n",
    "    # Extract the href attribute of the <span> element (if present)\n",
    "    href = element.get('href')\n",
    "\n",
    "    # Append each name to the list\n",
    "    name_list.append(link_text)"
   ]
  },
  {
   "cell_type": "code",
   "execution_count": 237,
   "id": "23acd3bd",
   "metadata": {},
   "outputs": [],
   "source": [
    "import re\n",
    "\n",
    "cleaned_name_data = [row.replace('\\n', '').replace('\\r', '') for row in name_list]\n",
    "#Remove the whitespace\n",
    "cleaned_name_data = [re.sub(r'\\s+', '', row) for row in cleaned_name_data]\n",
    "\n",
    "# Function to insert spaces between capital letters\n",
    "def insert_spaces(word):\n",
    "    return re.sub(r'([A-Z])', r' \\1', word)\n",
    "\n",
    "# Apply the function to each word in the list\n",
    "cleaned_name_data = [insert_spaces(word) for word in cleaned_name_data]\n",
    "\n",
    "#delete whitespace\n",
    "cleaned_names = []\n",
    "for name in cleaned_name_data:\n",
    "    cleaned_name = name.lstrip()\n",
    "    cleaned_names.append(cleaned_name)\n",
    "\n",
    "#print cleaned tennis names\n",
    "#cleaned_names"
   ]
  },
  {
   "cell_type": "code",
   "execution_count": 232,
   "id": "94019c8b",
   "metadata": {},
   "outputs": [],
   "source": [
    "import pandas as pd\n",
    "df_seed = pd.DataFrame()\n",
    "\n",
    "df_seed['player_one_seed'] = cleaned_player_data\n",
    "df_seed['player_one'] = cleaned_names\n",
    "\n"
   ]
  },
  {
   "cell_type": "code",
   "execution_count": 234,
   "id": "010de373",
   "metadata": {},
   "outputs": [],
   "source": [
    "# Merge the two DataFrames based on the 'key' column\n",
    "merged_df = pd.merge(df, df_seed, on='player_one', how='inner')"
   ]
  },
  {
   "cell_type": "code",
   "execution_count": 238,
   "id": "5cb9d9f7",
   "metadata": {},
   "outputs": [
    {
     "data": {
      "text/html": [
       "<div>\n",
       "<style scoped>\n",
       "    .dataframe tbody tr th:only-of-type {\n",
       "        vertical-align: middle;\n",
       "    }\n",
       "\n",
       "    .dataframe tbody tr th {\n",
       "        vertical-align: top;\n",
       "    }\n",
       "\n",
       "    .dataframe thead th {\n",
       "        text-align: right;\n",
       "    }\n",
       "</style>\n",
       "<table border=\"1\" class=\"dataframe\">\n",
       "  <thead>\n",
       "    <tr style=\"text-align: right;\">\n",
       "      <th></th>\n",
       "      <th>player_two_seed</th>\n",
       "      <th>player_two</th>\n",
       "    </tr>\n",
       "  </thead>\n",
       "  <tbody>\n",
       "    <tr>\n",
       "      <th>0</th>\n",
       "      <td>1</td>\n",
       "      <td>Carlos Alcaraz</td>\n",
       "    </tr>\n",
       "    <tr>\n",
       "      <th>1</th>\n",
       "      <td>2</td>\n",
       "      <td>Novak Djokovic</td>\n",
       "    </tr>\n",
       "    <tr>\n",
       "      <th>2</th>\n",
       "      <td>3</td>\n",
       "      <td>Daniil Medvedev</td>\n",
       "    </tr>\n",
       "    <tr>\n",
       "      <th>3</th>\n",
       "      <td>4</td>\n",
       "      <td>Holger Rune</td>\n",
       "    </tr>\n",
       "    <tr>\n",
       "      <th>4</th>\n",
       "      <td>5</td>\n",
       "      <td>Casper Ruud</td>\n",
       "    </tr>\n",
       "    <tr>\n",
       "      <th>...</th>\n",
       "      <td>...</td>\n",
       "      <td>...</td>\n",
       "    </tr>\n",
       "    <tr>\n",
       "      <th>95</th>\n",
       "      <td>96</td>\n",
       "      <td>David Goffin</td>\n",
       "    </tr>\n",
       "    <tr>\n",
       "      <th>96</th>\n",
       "      <td>97</td>\n",
       "      <td>Marc- Andrea Huesler</td>\n",
       "    </tr>\n",
       "    <tr>\n",
       "      <th>97</th>\n",
       "      <td>98</td>\n",
       "      <td>Pavel Kotov</td>\n",
       "    </tr>\n",
       "    <tr>\n",
       "      <th>98</th>\n",
       "      <td>99</td>\n",
       "      <td>Hugo Gaston</td>\n",
       "    </tr>\n",
       "    <tr>\n",
       "      <th>99</th>\n",
       "      <td>100</td>\n",
       "      <td>Jurij Rodionov</td>\n",
       "    </tr>\n",
       "  </tbody>\n",
       "</table>\n",
       "<p>100 rows × 2 columns</p>\n",
       "</div>"
      ],
      "text/plain": [
       "   player_two_seed            player_two\n",
       "0                1        Carlos Alcaraz\n",
       "1                2        Novak Djokovic\n",
       "2                3       Daniil Medvedev\n",
       "3                4           Holger Rune\n",
       "4                5           Casper Ruud\n",
       "..             ...                   ...\n",
       "95              96          David Goffin\n",
       "96              97  Marc- Andrea Huesler\n",
       "97              98           Pavel Kotov\n",
       "98              99           Hugo Gaston\n",
       "99             100        Jurij Rodionov\n",
       "\n",
       "[100 rows x 2 columns]"
      ]
     },
     "execution_count": 238,
     "metadata": {},
     "output_type": "execute_result"
    }
   ],
   "source": [
    "df_seed = pd.DataFrame()\n",
    "\n",
    "df_seed['player_two_seed'] = cleaned_player_data\n",
    "df_seed['player_two'] = cleaned_names\n",
    "\n",
    "#print out dataframe with seeds\n",
    "df_seed"
   ]
  },
  {
   "cell_type": "code",
   "execution_count": 236,
   "id": "471c28ba",
   "metadata": {},
   "outputs": [
    {
     "data": {
      "text/html": [
       "<div>\n",
       "<style scoped>\n",
       "    .dataframe tbody tr th:only-of-type {\n",
       "        vertical-align: middle;\n",
       "    }\n",
       "\n",
       "    .dataframe tbody tr th {\n",
       "        vertical-align: top;\n",
       "    }\n",
       "\n",
       "    .dataframe thead th {\n",
       "        text-align: right;\n",
       "    }\n",
       "</style>\n",
       "<table border=\"1\" class=\"dataframe\">\n",
       "  <thead>\n",
       "    <tr style=\"text-align: right;\">\n",
       "      <th></th>\n",
       "      <th>player_one</th>\n",
       "      <th>player_two</th>\n",
       "      <th>player_one_odds</th>\n",
       "      <th>player_two_odds</th>\n",
       "      <th>player_one_seed</th>\n",
       "      <th>player_two_seed</th>\n",
       "    </tr>\n",
       "  </thead>\n",
       "  <tbody>\n",
       "    <tr>\n",
       "      <th>0</th>\n",
       "      <td>Novak Djokovic</td>\n",
       "      <td>Daniil Medvedev</td>\n",
       "      <td>-250</td>\n",
       "      <td>+200</td>\n",
       "      <td>2</td>\n",
       "      <td>3</td>\n",
       "    </tr>\n",
       "  </tbody>\n",
       "</table>\n",
       "</div>"
      ],
      "text/plain": [
       "       player_one       player_two player_one_odds player_two_odds  \\\n",
       "0  Novak Djokovic  Daniil Medvedev            -250            +200   \n",
       "\n",
       "  player_one_seed player_two_seed  \n",
       "0               2               3  "
      ]
     },
     "execution_count": 236,
     "metadata": {},
     "output_type": "execute_result"
    }
   ],
   "source": [
    "# Merge the two DataFrames based on the 'key' column\n",
    "merged_df = pd.merge(merged_df, df_seed, on='player_two', how='inner')\n",
    "\n",
    "merged_df"
   ]
  },
  {
   "cell_type": "code",
   "execution_count": null,
   "id": "00394e8e",
   "metadata": {},
   "outputs": [],
   "source": []
  }
 ],
 "metadata": {
  "kernelspec": {
   "display_name": "Python 3 (ipykernel)",
   "language": "python",
   "name": "python3"
  },
  "language_info": {
   "codemirror_mode": {
    "name": "ipython",
    "version": 3
   },
   "file_extension": ".py",
   "mimetype": "text/x-python",
   "name": "python",
   "nbconvert_exporter": "python",
   "pygments_lexer": "ipython3",
   "version": "3.10.9"
  }
 },
 "nbformat": 4,
 "nbformat_minor": 5
}
